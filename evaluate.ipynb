{
 "metadata": {
  "language_info": {
   "codemirror_mode": {
    "name": "ipython",
    "version": 3
   },
   "file_extension": ".py",
   "mimetype": "text/x-python",
   "name": "python",
   "nbconvert_exporter": "python",
   "pygments_lexer": "ipython3",
   "version": "3.8.5-final"
  },
  "orig_nbformat": 2,
  "kernelspec": {
   "name": "python3",
   "display_name": "Python 3",
   "language": "python"
  }
 },
 "nbformat": 4,
 "nbformat_minor": 2,
 "cells": [
  {
   "cell_type": "code",
   "execution_count": 1,
   "metadata": {},
   "outputs": [],
   "source": [
    "import pandas as pd\n",
    "import os\n",
    "from nltk import sent_tokenize\n",
    "import re"
   ]
  },
  {
   "cell_type": "code",
   "execution_count": 2,
   "metadata": {},
   "outputs": [],
   "source": [
    "df = pd.DataFrame(columns=['predict', 'ground_truth'])"
   ]
  },
  {
   "cell_type": "code",
   "execution_count": 3,
   "metadata": {},
   "outputs": [],
   "source": [
    "path = r'C:\\Users\\anhdq33\\Downloads\\VinBigData\\Deep_Learning\\Project\\data\\output_fastabs\\output'\n",
    "files = os.listdir(path)\n",
    "files.sort(key=lambda f: int(re.sub('\\D', '', f)))\n",
    "predict = []\n",
    "for f in files:\n",
    "    with open(os.path.join(path, f), 'r', encoding='utf8') as sum:\n",
    "        data = sum.read()\n",
    "    predict.append(data)"
   ]
  },
  {
   "cell_type": "code",
   "execution_count": 4,
   "metadata": {},
   "outputs": [],
   "source": [
    "df['predict'] = predict"
   ]
  },
  {
   "cell_type": "code",
   "execution_count": 6,
   "metadata": {},
   "outputs": [
    {
     "output_type": "execute_result",
     "data": {
      "text/plain": [
       "                                             summary  \\\n",
       "0   Bản_án cho đối_tượng giả_danh công_an để lừa_đảo   \n",
       "1  Nam thanh_niên thủ_dâm trên xe_buýt từng bị xử...   \n",
       "2  Không được công_nhận , thuốc \" sinh con theo ý...   \n",
       "3  VEC từ_chối phục_vụ vĩnh_viễn 2 ô_tô gây_rối t...   \n",
       "4  VKSND tỉnh Sóc_Trăng xin_lỗi oan sai “ nữ_hoàn...   \n",
       "\n",
       "                                            fullText  \n",
       "0  Ngày 25/2 , TAND TP. Đà_Nẵng tuyên_phạt Hồ_Xuâ...  \n",
       "1  Phát_hiện nam thanh_niên đang thủ_dâm trên xe_...  \n",
       "2  “ Baby_Support ” và “ Hello baby ” là hai cái ...  \n",
       "3  Liên_quan đến vụ gây_rối tại trạm thu phí trên...  \n",
       "4  Bà Huỳnh_Ngọc_Bích được mọi người biết đến là ...  "
      ],
      "text/html": "<div>\n<style scoped>\n    .dataframe tbody tr th:only-of-type {\n        vertical-align: middle;\n    }\n\n    .dataframe tbody tr th {\n        vertical-align: top;\n    }\n\n    .dataframe thead th {\n        text-align: right;\n    }\n</style>\n<table border=\"1\" class=\"dataframe\">\n  <thead>\n    <tr style=\"text-align: right;\">\n      <th></th>\n      <th>summary</th>\n      <th>fullText</th>\n    </tr>\n  </thead>\n  <tbody>\n    <tr>\n      <th>0</th>\n      <td>Bản_án cho đối_tượng giả_danh công_an để lừa_đảo</td>\n      <td>Ngày 25/2 , TAND TP. Đà_Nẵng tuyên_phạt Hồ_Xuâ...</td>\n    </tr>\n    <tr>\n      <th>1</th>\n      <td>Nam thanh_niên thủ_dâm trên xe_buýt từng bị xử...</td>\n      <td>Phát_hiện nam thanh_niên đang thủ_dâm trên xe_...</td>\n    </tr>\n    <tr>\n      <th>2</th>\n      <td>Không được công_nhận , thuốc \" sinh con theo ý...</td>\n      <td>“ Baby_Support ” và “ Hello baby ” là hai cái ...</td>\n    </tr>\n    <tr>\n      <th>3</th>\n      <td>VEC từ_chối phục_vụ vĩnh_viễn 2 ô_tô gây_rối t...</td>\n      <td>Liên_quan đến vụ gây_rối tại trạm thu phí trên...</td>\n    </tr>\n    <tr>\n      <th>4</th>\n      <td>VKSND tỉnh Sóc_Trăng xin_lỗi oan sai “ nữ_hoàn...</td>\n      <td>Bà Huỳnh_Ngọc_Bích được mọi người biết đến là ...</td>\n    </tr>\n  </tbody>\n</table>\n</div>"
     },
     "metadata": {},
     "execution_count": 6
    }
   ],
   "source": [
    "label = pd.read_csv(r'C:\\Users\\anhdq33\\Downloads\\VinBigData\\Deep_Learning\\Project\\data\\raw_data\\data\\test.csv', index_col=0)\n",
    "label.head()"
   ]
  },
  {
   "cell_type": "code",
   "execution_count": 9,
   "metadata": {},
   "outputs": [],
   "source": [
    "df['ground_truth'] = label['summary']"
   ]
  },
  {
   "cell_type": "code",
   "execution_count": 10,
   "metadata": {},
   "outputs": [
    {
     "output_type": "execute_result",
     "data": {
      "text/plain": [
       "                                                 predict  \\\n",
       "22639                                   mưa_đá ở nghệ_an   \n",
       "22640              tp hcm cấm tàu chạy trên sông sài_gòn   \n",
       "22641                   chờ cơ_chế miễn học_phí cấp thcs   \n",
       "22642  kiều_bào : ' kiều_bào là khơi gợi nhiệt_huyết ...   \n",
       "22643  thanh_tra xây_dựng cầu_vượt ở hà_nội : không l...   \n",
       "\n",
       "                                            ground_truth  \n",
       "22639  Mưa_đá trút xuống vùng_biên Nghệ_An làm hỏng n...  \n",
       "22640  Tàu_cánh_ngầm TP HCM - Vũng_Tàu được chạy trở_lại  \n",
       "22641     TP HCM nghiên_cứu chính_sách miễn học_phí THPT  \n",
       "22642  Thứ_trưởng Trần_Văn_Tùng : ' Tạo mọi thuận_lợi...  \n",
       "22643   Hà_Nội phủ_nhận sai_phạm trong xây_dựng cầu_vượt  "
      ],
      "text/html": "<div>\n<style scoped>\n    .dataframe tbody tr th:only-of-type {\n        vertical-align: middle;\n    }\n\n    .dataframe tbody tr th {\n        vertical-align: top;\n    }\n\n    .dataframe thead th {\n        text-align: right;\n    }\n</style>\n<table border=\"1\" class=\"dataframe\">\n  <thead>\n    <tr style=\"text-align: right;\">\n      <th></th>\n      <th>predict</th>\n      <th>ground_truth</th>\n    </tr>\n  </thead>\n  <tbody>\n    <tr>\n      <th>22639</th>\n      <td>mưa_đá ở nghệ_an</td>\n      <td>Mưa_đá trút xuống vùng_biên Nghệ_An làm hỏng n...</td>\n    </tr>\n    <tr>\n      <th>22640</th>\n      <td>tp hcm cấm tàu chạy trên sông sài_gòn</td>\n      <td>Tàu_cánh_ngầm TP HCM - Vũng_Tàu được chạy trở_lại</td>\n    </tr>\n    <tr>\n      <th>22641</th>\n      <td>chờ cơ_chế miễn học_phí cấp thcs</td>\n      <td>TP HCM nghiên_cứu chính_sách miễn học_phí THPT</td>\n    </tr>\n    <tr>\n      <th>22642</th>\n      <td>kiều_bào : ' kiều_bào là khơi gợi nhiệt_huyết ...</td>\n      <td>Thứ_trưởng Trần_Văn_Tùng : ' Tạo mọi thuận_lợi...</td>\n    </tr>\n    <tr>\n      <th>22643</th>\n      <td>thanh_tra xây_dựng cầu_vượt ở hà_nội : không l...</td>\n      <td>Hà_Nội phủ_nhận sai_phạm trong xây_dựng cầu_vượt</td>\n    </tr>\n  </tbody>\n</table>\n</div>"
     },
     "metadata": {},
     "execution_count": 10
    }
   ],
   "source": [
    "df.tail()"
   ]
  },
  {
   "cell_type": "code",
   "execution_count": 11,
   "metadata": {},
   "outputs": [
    {
     "output_type": "stream",
     "name": "stdout",
     "text": [
      "Requirement already satisfied: rouge-score in c:\\users\\anhdq33\\anaconda3\\envs\\nlp\\lib\\site-packages (0.0.4)\n",
      "Requirement already satisfied: absl-py in c:\\users\\anhdq33\\anaconda3\\envs\\nlp\\lib\\site-packages (from rouge-score) (0.11.0)\n",
      "Requirement already satisfied: numpy in c:\\users\\anhdq33\\anaconda3\\envs\\nlp\\lib\\site-packages (from rouge-score) (1.19.4)\n",
      "Requirement already satisfied: nltk in c:\\users\\anhdq33\\anaconda3\\envs\\nlp\\lib\\site-packages (from rouge-score) (3.5)\n",
      "Requirement already satisfied: six>=1.14.0 in c:\\users\\anhdq33\\anaconda3\\envs\\nlp\\lib\\site-packages (from rouge-score) (1.15.0)\n",
      "Requirement already satisfied: regex in c:\\users\\anhdq33\\anaconda3\\envs\\nlp\\lib\\site-packages (from nltk->rouge-score) (2020.10.15)\n",
      "Requirement already satisfied: click in c:\\users\\anhdq33\\anaconda3\\envs\\nlp\\lib\\site-packages (from nltk->rouge-score) (7.1.2)\n",
      "Requirement already satisfied: joblib in c:\\users\\anhdq33\\anaconda3\\envs\\nlp\\lib\\site-packages (from nltk->rouge-score) (1.0.0)\n",
      "Requirement already satisfied: tqdm in c:\\users\\anhdq33\\anaconda3\\envs\\nlp\\lib\\site-packages (from nltk->rouge-score) (4.54.1)\n"
     ]
    }
   ],
   "source": [
    "!pip install rouge-score"
   ]
  },
  {
   "cell_type": "code",
   "execution_count": 12,
   "metadata": {},
   "outputs": [],
   "source": [
    "import numpy as np\n",
    "from rouge_score import rouge_scorer\n",
    "from datetime import datetime\n",
    "\n",
    "def rouge_scoring(df, raw_col, machine_col):\n",
    "    scr_type = ['rouge1', 'rouge2', 'rougeL']\n",
    "    scorer = rouge_scorer.RougeScorer(scr_type, use_stemmer=True)\n",
    "\n",
    "    rouge_score = {'rouge1':{'precision':[],\n",
    "                             'recall':[],\n",
    "                             'fmeasure': []},\n",
    "                   'rouge2':{'precision':[],\n",
    "                             'recall':[],\n",
    "                             'fmeasure': []},\n",
    "                   'rougeL':{'precision':[],\n",
    "                             'recall':[],\n",
    "                             'fmeasure': []}}\n",
    "    \n",
    "    for i, r in df.iterrows():\n",
    "        score_all = scorer.score(r[raw_col],r[machine_col])\n",
    "        for t in scr_type:\n",
    "                rouge_score[t]['precision'].append(score_all[t].precision)\n",
    "                rouge_score[t]['recall'].append(score_all[t].recall)\n",
    "                rouge_score[t]['fmeasure'].append(score_all[t].fmeasure)\n",
    "    for t in scr_type:\n",
    "        for k, v in rouge_score[t].items():\n",
    "            rouge_score[t][k] = np.mean(np.array(v))\n",
    "            print('{} ==== {}-{}: {}'.format(datetime.now(),t.upper(),k.upper(), np.mean(np.array(v))))\n",
    "    return rouge_score"
   ]
  },
  {
   "cell_type": "code",
   "execution_count": 15,
   "metadata": {},
   "outputs": [],
   "source": [
    "df = df.dropna()"
   ]
  },
  {
   "cell_type": "code",
   "execution_count": 16,
   "metadata": {},
   "outputs": [
    {
     "output_type": "stream",
     "name": "stdout",
     "text": [
      "2021-01-15 22:36:34.221659 ==== ROUGE1-PRECISION: 0.5676503097707387\n2021-01-15 22:36:34.226664 ==== ROUGE1-RECALL: 0.5247372345428319\n2021-01-15 22:36:34.231618 ==== ROUGE1-FMEASURE: 0.5335343900763853\n2021-01-15 22:36:34.237869 ==== ROUGE2-PRECISION: 0.3152606714084578\n2021-01-15 22:36:34.242860 ==== ROUGE2-RECALL: 0.2898246777769599\n2021-01-15 22:36:34.248083 ==== ROUGE2-FMEASURE: 0.2950254740839309\n2021-01-15 22:36:34.254121 ==== ROUGEL-PRECISION: 0.45303562570627065\n2021-01-15 22:36:34.261083 ==== ROUGEL-RECALL: 0.4186615735482314\n2021-01-15 22:36:34.269078 ==== ROUGEL-FMEASURE: 0.4256718528908243\n"
     ]
    }
   ],
   "source": [
    "rouge_score = rouge_scoring(df, 'ground_truth', 'predict')"
   ]
  },
  {
   "cell_type": "code",
   "execution_count": null,
   "metadata": {},
   "outputs": [],
   "source": []
  }
 ]
}